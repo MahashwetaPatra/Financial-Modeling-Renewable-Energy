{
 "cells": [
  {
   "cell_type": "code",
   "execution_count": 1,
   "id": "374c0e43",
   "metadata": {
    "scrolled": true
   },
   "outputs": [
    {
     "name": "stdout",
     "output_type": "stream",
     "text": [
      "Index(['7', '8', '9', '10', '11', '12'], dtype='object')\n",
      "761.9729430675507\n"
     ]
    },
    {
     "data": {
      "image/png": "[encoded data removed]",
      "text/plain": [
       "<Figure size 216x216 with 1 Axes>"
      ]
     },
     "metadata": {
      "needs_background": "light"
     },
     "output_type": "display_data"
    }
   ],
   "source": [
    "import pandas as pd\n",
    "import datetime\n",
    "import time\n",
    "import math\n",
    "import numpy as np\n",
    "import os\n",
    "import glob\n",
    "import datetime\n",
    "import seaborn as sns\n",
    "import matplotlib.pyplot as plt\n",
    "start = time.time()\n",
    "scoville_metadata = pd.read_excel(\"C:\\\\Users\\\\Mahashweta Patra\\\\Documents\\\\MikeLudkovski\\\\Scovilleriskpartners\\\\CSV\\\\metaData.xlsx\")\n",
    "#print(scoville_metadata['AssetName'][36:151])\n",
    "a=[]\n",
    "start_date = '20170101'\n",
    "end_date = '20181231'\n",
    "date_temp_lst = []  # temp list to collect dfs. this is faster than appending the dfs to a bigger df\n",
    "date_range = pd.date_range(start_date, end_date, freq= 'D')\n",
    "date_range_str = date_range.strftime('%Y%m%d').tolist()\n",
    "day=['IntraDay2']\n",
    "hourly =  pd.read_csv(\"C:\\\\Users\\\\Mahashweta Patra\\\\Documents\\\\MikeLudkovski\\\\Scovilleriskpartners\\\\CSV\\\\IntraDay2\\\\SimDat_20180202\\\\wind\\\\Baffin.csv\")\n",
    "hours=hourly.columns[2:8]\n",
    "print(hours)\n",
    "for asset in range(36,151):\n",
    "    score=0.0\n",
    "    filename=scoville_metadata['AssetName'][asset]\n",
    "    #print('filename',filename)\n",
    "    for date in date_range_str:\n",
    "        hourly_percentiles = pd.read_csv(\"C:\\\\Users\\\\Mahashweta Patra\\\\Documents\\\\MikeLudkovski\\\\Scovilleriskpartners\\\\CSV\\\\IntraDay2\\\\SimDat_\"+str(date)+\"\\\\wind\\\\\"+filename+\".csv\")\n",
    "        #hours=hourly_percentiles.index\n",
    "        for i in hours: #range(1,6):\n",
    "            column1=hourly_percentiles[str(i)]\n",
    "            #print('column1',column1)\n",
    "            max_value = np.max(column1)\n",
    "            #print('max_value',max_value)\n",
    "            repeatation=len(np.where(column1[2:1001]==0)[0])\n",
    "            #print(repeatation)\n",
    "            probability=repeatation/1000\n",
    "            #print(probability)\n",
    "            if probability>0.01:\n",
    "                actual=column1[0]\n",
    "                #print(actual)\n",
    "                if actual==0:\n",
    "                    BS=(probability-1)*(probability-1)\n",
    "                else:\n",
    "                    BS=(probability-0)*(probability-0)\n",
    "                #print(BS)\n",
    "                score=score+BS\n",
    "    a.append(score)            \n",
    "    #print(score)\n",
    "import numpy\n",
    "fig = plt.figure(figsize=(3,3))\n",
    "ax = fig.add_subplot(1,1,1)\n",
    "ax.hist(a, bins=10)\n",
    "plt.xticks(rotation=0)\n",
    "plt.title('Brier score')\n",
    "numpy.histogram(a)\n",
    "end = time.time()\n",
    "print(end-start)\n"
   ]
  },
  {
   "cell_type": "code",
   "execution_count": null,
   "id": "9a3d8c99",
   "metadata": {},
   "outputs": [],
   "source": []
  }
 ],
 "metadata": {
  "kernelspec": {
   "display_name": "Python 3",
   "language": "python",
   "name": "python3"
  },
  "language_info": {
   "codemirror_mode": {
    "name": "ipython",
    "version": 3
   },
   "file_extension": ".py",
   "mimetype": "text/x-python",
   "name": "python",
   "nbconvert_exporter": "python",
   "pygments_lexer": "ipython3",
   "version": "3.8.8"
  }
 },
 "nbformat": 4,
 "nbformat_minor": 5
}
